{
  "nbformat": 4,
  "nbformat_minor": 0,
  "metadata": {
    "colab": {
      "name": "DeepLearning_Week4.ipynb",
      "provenance": []
    },
    "kernelspec": {
      "name": "python3",
      "display_name": "Python 3"
    },
    "language_info": {
      "name": "python"
    }
  },
  "cells": [
    {
      "cell_type": "markdown",
      "source": [
        "Nama : Septi Intan Amalia\n",
        "\n",
        "Nim : H071191022"
      ],
      "metadata": {
        "id": "WEIQkK530hVV"
      }
    },
    {
      "cell_type": "markdown",
      "source": [
        "# LeNet\n",
        "LeNet atau LeNet-5 merupakan struktur CNN yang diusulkan oleh Yann LeCun et al. Struktur LeNet termasuk struktur yang sederhana, terdiri dari 2 layer konvolusi, 2 layer pooling, dan 3 Fully connected layer.\n",
        "LeNet cocok untuk masalah object recognition pada gambar hitam dan putih beresolusi rendah"
      ],
      "metadata": {
        "id": "3yXRA71O0otU"
      }
    },
    {
      "cell_type": "markdown",
      "source": [
        "Implementasi LeNet dengan Tensorflow"
      ],
      "metadata": {
        "id": "RbfXVsV70v32"
      }
    },
    {
      "cell_type": "code",
      "execution_count": 1,
      "metadata": {
        "id": "ZyoFaaMuzrjz"
      },
      "outputs": [],
      "source": [
        "import tensorflow as tf\n",
        "from tensorflow import keras\n",
        "\n",
        "import numpy as np\n",
        "from matplotlib import pyplot as plt"
      ]
    },
    {
      "cell_type": "markdown",
      "source": [
        " klasifikasi pada dataset mnist menggunakan LeNet"
      ],
      "metadata": {
        "id": "Aq30ZkX304nx"
      }
    },
    {
      "cell_type": "code",
      "source": [
        "# Load data\n",
        "(x_train, y_train), (x_test, y_test)= keras.datasets.mnist.load_data()\n",
        "\n",
        "# Normalisasi\n",
        "x_train= x_train/255\n",
        "x_test= x_test/255\n",
        "\n",
        "print(len(x_train), len(x_test))"
      ],
      "metadata": {
        "colab": {
          "base_uri": "https://localhost:8080/"
        },
        "id": "oNw6fHOi06aO",
        "outputId": "43f1e4d4-f03a-4595-9491-562b77f8637d"
      },
      "execution_count": 2,
      "outputs": [
        {
          "output_type": "stream",
          "name": "stdout",
          "text": [
            "Downloading data from https://storage.googleapis.com/tensorflow/tf-keras-datasets/mnist.npz\n",
            "11493376/11490434 [==============================] - 0s 0us/step\n",
            "11501568/11490434 [==============================] - 0s 0us/step\n",
            "60000 10000\n"
          ]
        }
      ]
    },
    {
      "cell_type": "code",
      "source": [
        "x_train[0].shape"
      ],
      "metadata": {
        "colab": {
          "base_uri": "https://localhost:8080/"
        },
        "id": "WQN4QOSx1Ehm",
        "outputId": "cdf9f86d-a114-4a4f-bebe-0c28c6f3bc04"
      },
      "execution_count": 3,
      "outputs": [
        {
          "output_type": "execute_result",
          "data": {
            "text/plain": [
              "(28, 28)"
            ]
          },
          "metadata": {},
          "execution_count": 3
        }
      ]
    },
    {
      "cell_type": "markdown",
      "source": [
        "Membuat Struktur LeNet"
      ],
      "metadata": {
        "id": "wfw8IvLu1ID9"
      }
    },
    {
      "cell_type": "code",
      "source": [
        "lenet= tf.keras.models.Sequential([\n",
        "  # Layer konvolusi dengan besar kernel 5x5, tidak ditambahkan padding, dan outputnya 6 channel\n",
        "  keras.layers.Conv2D(filters=6, kernel_size=5, activation='sigmoid', padding='same', input_shape=(28, 28, 1)),\n",
        "  keras.layers.AvgPool2D(pool_size=2, strides=2),\n",
        "  # Layer konvolusi dengan besar kernel 5x5, tidak ditambahkan padding, dan outputnya 16 channel\n",
        "  keras.layers.Conv2D(filters=16, kernel_size=5, activation='sigmoid'),\n",
        "  keras.layers.AvgPool2D(pool_size=2, strides=2),\n",
        "  # Mem-flatten feature map\n",
        "  keras.layers.Flatten(),\n",
        "  # 3 layer fcn\n",
        "  keras.layers.Dense(120, activation='sigmoid'),\n",
        "  keras.layers.Dense(84, activation='sigmoid'),\n",
        "  # Layer output terdiri dari 10 kelas sesuai kelas mnist\n",
        "  keras.layers.Dense(10)\n",
        "])"
      ],
      "metadata": {
        "id": "sNVALUZj1J34"
      },
      "execution_count": 4,
      "outputs": []
    },
    {
      "cell_type": "markdown",
      "source": [
        "Struktur Model "
      ],
      "metadata": {
        "id": "gVfNWDuw1NI7"
      }
    },
    {
      "cell_type": "code",
      "source": [
        "X = tf.random.uniform((1, 28, 28, 1))\n",
        "for layer in lenet.layers:\n",
        "    X = layer(X)\n",
        "    print(layer.__class__.__name__, 'output shape:\\t', X.shape)"
      ],
      "metadata": {
        "colab": {
          "base_uri": "https://localhost:8080/"
        },
        "id": "7J_ck1ft1Ot_",
        "outputId": "71594ec4-42d7-44c8-ae06-8300fab54124"
      },
      "execution_count": 5,
      "outputs": [
        {
          "output_type": "stream",
          "name": "stdout",
          "text": [
            "Conv2D output shape:\t (1, 28, 28, 6)\n",
            "AveragePooling2D output shape:\t (1, 14, 14, 6)\n",
            "Conv2D output shape:\t (1, 10, 10, 16)\n",
            "AveragePooling2D output shape:\t (1, 5, 5, 16)\n",
            "Flatten output shape:\t (1, 400)\n",
            "Dense output shape:\t (1, 120)\n",
            "Dense output shape:\t (1, 84)\n",
            "Dense output shape:\t (1, 10)\n"
          ]
        }
      ]
    },
    {
      "cell_type": "markdown",
      "source": [
        "Compile model dengan optimizer SGD dan loss function sparse categorical crossentropy lalu melakukan proses train dengan 10 epochs"
      ],
      "metadata": {
        "id": "R8gaL_vS1ZJX"
      }
    },
    {
      "cell_type": "code",
      "source": [
        "optimizer = keras.optimizers.SGD(learning_rate=0.9)\n",
        "loss = keras.losses.SparseCategoricalCrossentropy(from_logits=True)\n",
        "\n",
        "lenet.compile(optimizer=optimizer, loss=loss, metrics=['accuracy'])\n",
        "\n",
        "lenet.fit(x_train, y_train, epochs=10)"
      ],
      "metadata": {
        "colab": {
          "base_uri": "https://localhost:8080/"
        },
        "id": "i_kLc-Zm1cEw",
        "outputId": "514ea8b4-bab6-4b37-9287-18b2a39e0695"
      },
      "execution_count": 6,
      "outputs": [
        {
          "output_type": "stream",
          "name": "stdout",
          "text": [
            "Epoch 1/10\n",
            "1875/1875 [==============================] - 35s 19ms/step - loss: 2.3121 - accuracy: 0.1038\n",
            "Epoch 2/10\n",
            "1875/1875 [==============================] - 34s 18ms/step - loss: 2.3079 - accuracy: 0.1048\n",
            "Epoch 3/10\n",
            "1875/1875 [==============================] - 40s 21ms/step - loss: 2.3080 - accuracy: 0.1037\n",
            "Epoch 4/10\n",
            "1875/1875 [==============================] - 34s 18ms/step - loss: 2.3077 - accuracy: 0.1034\n",
            "Epoch 5/10\n",
            "1875/1875 [==============================] - 32s 17ms/step - loss: 2.3074 - accuracy: 0.1056\n",
            "Epoch 6/10\n",
            "1875/1875 [==============================] - 33s 18ms/step - loss: 0.5813 - accuracy: 0.7989\n",
            "Epoch 7/10\n",
            "1875/1875 [==============================] - 31s 16ms/step - loss: 0.1064 - accuracy: 0.9672\n",
            "Epoch 8/10\n",
            "1875/1875 [==============================] - 31s 17ms/step - loss: 0.0737 - accuracy: 0.9775\n",
            "Epoch 9/10\n",
            "1875/1875 [==============================] - 34s 18ms/step - loss: 0.0578 - accuracy: 0.9825\n",
            "Epoch 10/10\n",
            "1875/1875 [==============================] - 34s 18ms/step - loss: 0.0489 - accuracy: 0.9849\n"
          ]
        },
        {
          "output_type": "execute_result",
          "data": {
            "text/plain": [
              "<keras.callbacks.History at 0x7ff3a85e3690>"
            ]
          },
          "metadata": {},
          "execution_count": 6
        }
      ]
    },
    {
      "cell_type": "markdown",
      "source": [
        "Evaluasi"
      ],
      "metadata": {
        "id": "2bop2V_31fKF"
      }
    },
    {
      "cell_type": "code",
      "source": [
        "lenet.evaluate(x_test, y_test)"
      ],
      "metadata": {
        "colab": {
          "base_uri": "https://localhost:8080/"
        },
        "id": "tJFeqPaM1eFe",
        "outputId": "166d927d-9a6c-4422-9565-37fe04aff7be"
      },
      "execution_count": 7,
      "outputs": [
        {
          "output_type": "stream",
          "name": "stdout",
          "text": [
            "313/313 [==============================] - 7s 21ms/step - loss: 0.0450 - accuracy: 0.9847\n"
          ]
        },
        {
          "output_type": "execute_result",
          "data": {
            "text/plain": [
              "[0.045003220438957214, 0.9847000241279602]"
            ]
          },
          "metadata": {},
          "execution_count": 7
        }
      ]
    },
    {
      "cell_type": "markdown",
      "source": [
        "**Visualiasi** **LeNet**\n",
        "\n",
        "Mengambil index layer dari LeNet yang merupakan layer konvolusi (termasuk layer pooling)"
      ],
      "metadata": {
        "id": "EdUJAnMA1lQx"
      }
    },
    {
      "cell_type": "code",
      "source": [
        "conv_layers_idx_list= [i for i in range(len(lenet.layers)) if 'conv' in lenet.layers[i].name or 'pooling' in lenet.layers[i].name]\n",
        "\n",
        "conv_layers_idx_list"
      ],
      "metadata": {
        "colab": {
          "base_uri": "https://localhost:8080/"
        },
        "id": "eYSHLr-i1ozR",
        "outputId": "c4e515e2-2e4d-44e4-ba42-a9358f2b347d"
      },
      "execution_count": 8,
      "outputs": [
        {
          "output_type": "execute_result",
          "data": {
            "text/plain": [
              "[0, 1, 2, 3]"
            ]
          },
          "metadata": {},
          "execution_count": 8
        }
      ]
    },
    {
      "cell_type": "markdown",
      "source": [
        "Menampilkan Gambar hasil layer Konvolusi"
      ],
      "metadata": {
        "id": "ukfkOkal1wQ5"
      }
    },
    {
      "cell_type": "code",
      "source": [
        "from numpy import expand_dims\n",
        "from keras.models import Model  \n",
        "\n",
        "def show_conv_layers(idx, img= None):\n",
        "    global lenet\n",
        "    temp_model = Model(inputs=lenet.inputs, outputs=lenet.layers[idx].output)\n",
        "\n",
        "    if img is None:\n",
        "        img = x_test[0]\n",
        "\n",
        "    img = expand_dims(img, axis=0)\n",
        "    feature_maps = temp_model.predict(img)\n",
        "    print(f'{lenet.layers[idx].name} : output gambar {feature_maps.shape[1]} x {feature_maps.shape[2]}, {feature_maps.shape[-1]} channel')\n",
        "\n",
        "    rows= feature_maps.shape[-1]  \n",
        "    idx = 0\n",
        "\n",
        "    plt.figure(figsize=(10,4))\n",
        "    for _ in range(rows):\n",
        "        ax = plt.subplot(1, rows, idx+1)\n",
        "        ax.set_xticks([])\n",
        "        ax.set_yticks([])\n",
        "        plt.imshow(feature_maps[0, :, :, idx], cmap='gray')\n",
        "        idx += 1\n",
        "\n",
        "    plt.show()"
      ],
      "metadata": {
        "id": "KccRc6ij1ypi"
      },
      "execution_count": 9,
      "outputs": []
    },
    {
      "cell_type": "markdown",
      "source": [
        "Output "
      ],
      "metadata": {
        "id": "uCQ_lFEF16j7"
      }
    },
    {
      "cell_type": "code",
      "source": [
        "img= x_test[1]\n",
        "for i in conv_layers_idx_list:\n",
        "      show_conv_layers(i, img)"
      ],
      "metadata": {
        "colab": {
          "base_uri": "https://localhost:8080/",
          "height": 373
        },
        "id": "9Vwtxdwv17u_",
        "outputId": "22a053c4-33cb-4022-9843-733bd184af9b"
      },
      "execution_count": 10,
      "outputs": [
        {
          "output_type": "stream",
          "name": "stdout",
          "text": [
            "conv2d : output gambar 28 x 28, 6 channel\n"
          ]
        },
        {
          "output_type": "display_data",
          "data": {
            "text/plain": [
              "<Figure size 720x288 with 6 Axes>"
            ],
            "image/png": "[encoded data removed]"
          },
          "metadata": {}
        },
        {
          "output_type": "stream",
          "name": "stdout",
          "text": [
            "average_pooling2d : output gambar 14 x 14, 6 channel\n"
          ]
        },
        {
          "output_type": "display_data",
          "data": {
            "text/plain": [
              "<Figure size 720x288 with 6 Axes>"
            ],
            "image/png": "[encoded data removed]"
          },
          "metadata": {}
        },
        {
          "output_type": "stream",
          "name": "stdout",
          "text": [
            "conv2d_1 : output gambar 10 x 10, 16 channel\n"
          ]
        },
        {
          "output_type": "display_data",
          "data": {
            "text/plain": [
              "<Figure size 720x288 with 16 Axes>"
            ],
            "image/png": "[encoded data removed]"
          },
          "metadata": {}
        },
        {
          "output_type": "stream",
          "name": "stdout",
          "text": [
            "average_pooling2d_1 : output gambar 5 x 5, 16 channel\n"
          ]
        },
        {
          "output_type": "display_data",
          "data": {
            "text/plain": [
              "<Figure size 720x288 with 16 Axes>"
            ],
            "image/png": "[encoded data removed]"
          },
          "metadata": {}
        }
      ]
    }
  ]
}