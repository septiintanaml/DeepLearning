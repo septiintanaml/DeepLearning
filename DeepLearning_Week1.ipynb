{
  "nbformat": 4,
  "nbformat_minor": 0,
  "metadata": {
    "colab": {
      "name": "DeepLearning-Week1.ipynb",
      "provenance": []
    },
    "kernelspec": {
      "name": "python3",
      "display_name": "Python 3"
    },
    "language_info": {
      "name": "python"
    }
  },
  "cells": [
    {
      "cell_type": "markdown",
      "source": [
        "<h2>Nama : Septi Intan Amalia<h2>\n",
        "<h2> Nim : H071191022<h2>"
      ],
      "metadata": {
        "id": "HzK6Ff4m-NBH"
      }
    },
    {
      "cell_type": "markdown",
      "source": [
        "# Python!"
      ],
      "metadata": {
        "id": "0OP1xakB-dNp"
      }
    },
    {
      "cell_type": "markdown",
      "source": [
        "Print Hello Python"
      ],
      "metadata": {
        "id": "PIAk-Tkb-q99"
      }
    },
    {
      "cell_type": "code",
      "execution_count": 1,
      "metadata": {
        "colab": {
          "base_uri": "https://localhost:8080/"
        },
        "id": "eTsfqtoY-Gh4",
        "outputId": "7027bfb8-9b40-4760-8ba2-567ca4400d3c"
      },
      "outputs": [
        {
          "output_type": "stream",
          "name": "stdout",
          "text": [
            "Hello World!\n"
          ]
        }
      ],
      "source": [
        "print('Hello World!')"
      ]
    },
    {
      "cell_type": "markdown",
      "source": [
        "Variabel dan Tipe Data"
      ],
      "metadata": {
        "id": "rFjcpLIT-l7V"
      }
    },
    {
      "cell_type": "code",
      "source": [
        "# Variabel dengan tipe data integer atau bilangan bulat\n",
        "var_int= 1\n",
        "\n",
        "# Float/Double = Bilangan desimal\n",
        "var_float= 0.5\n",
        "\n",
        "# String = Berisi kumpulan karakter\n",
        "var_string= 'hello'\n",
        "\n",
        "# Boolean = Mempunyai 2 value, True atau False\n",
        "var_bool= True\n",
        "\n",
        "# List = Himpunan\n",
        "var_list= [1, 2, 3]\n",
        "\n",
        "# Tuple = Serupa dengan list tapi tidak bisa dirubah (immutable)\n",
        "var_tuple= (1, 2, 3)\n",
        "\n",
        "# Numpy array = Berfungsi mirip dengan list, \n",
        "# Namun dimodifikasi agar dapat melakukan operasi aritmatika layaknya matriks, juga lebih cepat\n",
        "import numpy as np\n",
        "var_arr= np.array([1, 2, 3])\n",
        "\n",
        "# Dictionary = List tapi setiap elemennya berupa pasangan key dan value\n",
        "var_dict= {'satu': 1, 'dua': 2, 'tiga':3}\n",
        "\n",
        "# Set = Merupakan himpunan yang tidak memperbolehkan nilai duplikat\n",
        "var_set= set([1, 2, 1])"
      ],
      "metadata": {
        "id": "jtB3yXYI-ltN"
      },
      "execution_count": 2,
      "outputs": []
    },
    {
      "cell_type": "markdown",
      "source": [
        "Operasi Aritmetika dan Bitwise"
      ],
      "metadata": {
        "id": "TJiVRd0S-vHd"
      }
    },
    {
      "cell_type": "code",
      "source": [
        "# Operasi Aritmatika\n",
        "add= 1+2\n",
        "substract= 4-2\n",
        "divide= 1/2\n",
        "multiplication= 1*2\n",
        "modulo= 4%2\n",
        "power= 2 ** 2\n",
        "square_root= 4 ** (-2)\n",
        "\n",
        "# Operasi Bitwise\n",
        "and_= 1&2\n",
        "or_= 1|4\n",
        "xor= 4^2\n",
        "not_= ~4\n",
        "left_shift= 4<<1\n",
        "right_shift= 2>>1"
      ],
      "metadata": {
        "id": "hF0uee1U-hpI"
      },
      "execution_count": 3,
      "outputs": []
    },
    {
      "cell_type": "code",
      "source": [
        "print('Operasi Penjumlahan:',add)\n",
        "print('Operasi Bitwise and:',and_)"
      ],
      "metadata": {
        "colab": {
          "base_uri": "https://localhost:8080/"
        },
        "id": "Td6qAQ7k-zNG",
        "outputId": "7d117396-9d3a-463c-bc5a-4b2f8163c8f6"
      },
      "execution_count": 4,
      "outputs": [
        {
          "output_type": "stream",
          "name": "stdout",
          "text": [
            "Operasi Penjumlahan: 3\n",
            "Operasi Bitwise and: 0\n"
          ]
        }
      ]
    },
    {
      "cell_type": "markdown",
      "source": [
        "Pengkondisian (If-Else)"
      ],
      "metadata": {
        "id": "vwAI3zGK-8S9"
      }
    },
    {
      "cell_type": "code",
      "source": [
        "# Sintaks if else\n",
        "num= 2\n",
        "\n",
        "if(num==2):\n",
        "    print('num is 2')\n",
        "elif(num==3):\n",
        "    print('num is 3')\n",
        "else:\n",
        "    print('num is not 2 or 3')\n",
        "    \n",
        "# Sintaks ternary\n",
        "print('num is 2' if num==2 else 'num is 3')"
      ],
      "metadata": {
        "colab": {
          "base_uri": "https://localhost:8080/"
        },
        "id": "IrZk8My1-9IA",
        "outputId": "869276b5-25a6-48bd-d1b7-e1a9f8bee5cb"
      },
      "execution_count": 8,
      "outputs": [
        {
          "output_type": "stream",
          "name": "stdout",
          "text": [
            "num is 2\n",
            "num is 2\n"
          ]
        }
      ]
    },
    {
      "cell_type": "markdown",
      "source": [
        "Perulangan"
      ],
      "metadata": {
        "id": "idMp6ECS_E-k"
      }
    },
    {
      "cell_type": "code",
      "source": [
        "# Sintaks for loop\n",
        "list1= [1, 2, 3]\n",
        "\n",
        "for i in list1:\n",
        "    print(i)\n",
        "\n",
        "print()    \n",
        "\n",
        "# Sintkas while\n",
        "idx= 0\n",
        "while(idx!=len(list1)):\n",
        "    print(list1[idx])\n",
        "    idx+=1\n",
        "    \n",
        "print()\n",
        "    \n",
        "# Sintaks list comprehension\n",
        "print('\\n'.join([str(i) for i in list1]))"
      ],
      "metadata": {
        "colab": {
          "base_uri": "https://localhost:8080/"
        },
        "id": "o7q2LIwP_Fz3",
        "outputId": "35f9a2f4-8a6a-4a95-a295-df1c0ecf144f"
      },
      "execution_count": 9,
      "outputs": [
        {
          "output_type": "stream",
          "name": "stdout",
          "text": [
            "1\n",
            "2\n",
            "3\n",
            "\n",
            "1\n",
            "2\n",
            "3\n",
            "\n",
            "1\n",
            "2\n",
            "3\n"
          ]
        }
      ]
    },
    {
      "cell_type": "markdown",
      "source": [
        "Fungsi"
      ],
      "metadata": {
        "id": "joCnImY4_Hoo"
      }
    },
    {
      "cell_type": "code",
      "source": [
        "# Fungsi void = fungsi yang tidak mengembalikan apa2 dan hanya mengerjakan blok kode di dalamnya\n",
        "def print_hello_world():\n",
        "    print('Hello World!')\n",
        "    \n",
        "# Fungsi dengan return\n",
        "def add(a, b):\n",
        "    return a+b"
      ],
      "metadata": {
        "id": "FxDOqI5N_IUl"
      },
      "execution_count": 10,
      "outputs": []
    },
    {
      "cell_type": "code",
      "source": [
        "print_hello_world()\n",
        "\n",
        "print(add(1,2))"
      ],
      "metadata": {
        "colab": {
          "base_uri": "https://localhost:8080/"
        },
        "id": "AVjYbL3T_J5H",
        "outputId": "a436abac-ec00-43f3-b95e-c8c3b3940702"
      },
      "execution_count": 11,
      "outputs": [
        {
          "output_type": "stream",
          "name": "stdout",
          "text": [
            "Hello World!\n",
            "3\n"
          ]
        }
      ]
    }
  ]
}